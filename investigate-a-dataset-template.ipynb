{
 "cells": [
  {
   "cell_type": "markdown",
   "metadata": {},
   "source": [
    "> **Tip**: Welcome to the Investigate a Dataset project! You will find tips in quoted sections like this to help organize your approach to your investigation. Before submitting your project, it will be a good idea to go back through your report and remove these sections to make the presentation of your work as tidy as possible. First things first, you might want to double-click this Markdown cell and change the title so that it reflects your dataset and investigation.\n",
    "\n",
    "# Project: Investigate a Dataset (Doctor Appointment Dataset)\n",
    "\n",
    "## Table of Contents\n",
    "<ul>\n",
    "<li><a href=\"#intro\">Introduction</a></li>\n",
    "<li><a href=\"#wrangling\">Data Wrangling</a></li>\n",
    "<li><a href=\"#eda\">Exploratory Data Analysis</a></li>\n",
    "<li><a href=\"#conclusions\">Conclusions</a></li>\n",
    "</ul>"
   ]
  },
  {
   "cell_type": "markdown",
   "metadata": {},
   "source": [
    "<a id='intro'></a>\n",
    "## Introduction\n",
    "\n",
    "\n",
    "The dataset contains information from 100k medical appointments in Brazil and is focused on the question of whether or not patients show up for their appointment. A number of characteristics about the patient are included in each row.\n",
    "\n",
    "* Patient ID : Unique identifier for a patient\n",
    "* Appointment ID : Unique identifer for a appointment\n",
    "* 'Gender': whether male or female\n",
    "* ‘ScheduledDay’ tells us on what day the patient set up their appointment.\n",
    "* 'Appointment Day' tells us on what day patient has to visit the doctor. \n",
    "*  'Age'  : Age of the patients\n",
    "* ‘Neighborhood’ indicates the location of the hospital.\n",
    "* ‘Scholarship’ indicates whether or not the patient is enrolled in Brasilian welfare program Bolsa Família.\n",
    "* ''HyperTension', 'Diabetes', 'Alcoholism' - These indicates whether the patient is suffering from these lifestyle diseases\n",
    "* 'Handicapped': This dicates whether the person is differently abled or not. \n",
    "* The no show column indicates whether the patient turned up for the appointment or not (Yes indicates no show and no indicates that the patient showed up)\n",
    "\n",
    "\n",
    "## Dependent and Independent variables\n",
    "Aim of this analyis to is to understand the impact of no shows with respect to gender, scholarships and day of the week\n",
    "\n",
    "Dependent Variable : - No Shows\n",
    "Independent Variable : Gender, Scholarships(Enrollment in welfare program),Day of the week. \n",
    "\n",
    "Questions for Analysis\n",
    "1) Which gender missed most of the appointments and proportion among them missing those appointments ?\n",
    "2) Does Scholarship plays a role whether the patient turns up or not ?\n",
    "3) Does weekday play a role in skipping appointments ?\n"
   ]
  },
  {
   "cell_type": "code",
   "execution_count": 107,
   "metadata": {
    "collapsed": true
   },
   "outputs": [],
   "source": [
    "# importing libraries to be used. \n",
    "\n",
    "%matplotlib inline\n",
    "import numpy as np \n",
    "import pandas as pd\n",
    "from datetime import datetime as dt \n",
    "import matplotlib.pyplot as plt"
   ]
  },
  {
   "cell_type": "code",
   "execution_count": 108,
   "metadata": {},
   "outputs": [
    {
     "name": "stdout",
     "output_type": "stream",
     "text": [
      "      PatientId  AppointmentID Gender          ScheduledDay  \\\n",
      "0  2.987250e+13        5642903      F  2016-04-29T18:38:08Z   \n",
      "1  5.589978e+14        5642503      M  2016-04-29T16:08:27Z   \n",
      "2  4.262962e+12        5642549      F  2016-04-29T16:19:04Z   \n",
      "3  8.679512e+11        5642828      F  2016-04-29T17:29:31Z   \n",
      "4  8.841186e+12        5642494      F  2016-04-29T16:07:23Z   \n",
      "\n",
      "         AppointmentDay  Age      Neighbourhood  Scholarship  Hipertension  \\\n",
      "0  2016-04-29T00:00:00Z   62    JARDIM DA PENHA            0             1   \n",
      "1  2016-04-29T00:00:00Z   56    JARDIM DA PENHA            0             0   \n",
      "2  2016-04-29T00:00:00Z   62      MATA DA PRAIA            0             0   \n",
      "3  2016-04-29T00:00:00Z    8  PONTAL DE CAMBURI            0             0   \n",
      "4  2016-04-29T00:00:00Z   56    JARDIM DA PENHA            0             1   \n",
      "\n",
      "   Diabetes  Alcoholism  Handcap  SMS_received No-show  \n",
      "0         0           0        0             0      No  \n",
      "1         0           0        0             0      No  \n",
      "2         0           0        0             0      No  \n",
      "3         0           0        0             0      No  \n",
      "4         1           0        0             0      No  \n",
      "Index(['PatientId', 'AppointmentID', 'Gender', 'ScheduledDay',\n",
      "       'AppointmentDay', 'Age', 'Neighbourhood', 'Scholarship', 'Hipertension',\n",
      "       'Diabetes', 'Alcoholism', 'Handcap', 'SMS_received', 'No-show'],\n",
      "      dtype='object')\n",
      "The total patient records is 110527\n"
     ]
    }
   ],
   "source": [
    "# Load your data and print out a few lines. Perform operations to inspect data\n",
    "# types and look for instances of missing or possibly errant data. clean the data.\n",
    "# Read the csv file and analyse the data.\n",
    "\n",
    "appointment_data = pd.read_csv(\"noshowappointments-kagglev2-may-2016.csv\")\n",
    "## print the first few rows\n",
    "print(appointment_data.head())\n",
    "## Analyse the column names\n",
    "print(appointment_data.columns)\n",
    "## Total records in the CSV\n",
    "total_records=appointment_data[\"AppointmentID\"].count()\n",
    "print(f\"The total patient records is {total_records}\")\n",
    "\n"
   ]
  },
  {
   "cell_type": "code",
   "execution_count": 109,
   "metadata": {
    "collapsed": true
   },
   "outputs": [],
   "source": [
    "def checkColumnValues(data,columnnames,validvalues):\n",
    "    '''\n",
    "    This function checks whether valid values exists for columns Scholarship,Hypertension,Diabetes,\n",
    "    Alcoholism,Differently_abled,No_show\n",
    "    '''\n",
    " \n",
    "    count_elements=data[columnnames].isin(validvalues).count()\n",
    "    for columnname in columnnames:\n",
    "        if(count_elements[columnname] !=total_records):\n",
    "            print(f\"Data has to be cleansed for {columnname}\")\n",
    "        else:\n",
    "            print(f\"Data in {columnname} has valid inputs. No cleansing required\")\n",
    "    return\n",
    "    "
   ]
  },
  {
   "cell_type": "code",
   "execution_count": 110,
   "metadata": {
    "collapsed": true
   },
   "outputs": [],
   "source": [
    "def checkDuplicateAppts(data):\n",
    "    ## Function for checking duplicate appointments.\n",
    "    appointment_ids = appointment_data[\"AppointmentID\"]\n",
    "    duplicate_appointment_ids=appointment_data[appointment_data.duplicated(['AppointmentID'], keep=False)] [\"AppointmentID\"]\n",
    "    if(duplicate_appointment_ids.count()>0):\n",
    "        print(f\"Duplicate Appointments found in the data{duplicate_appointment_ids}\")\n",
    "        print(f\"Data cleansing has to be done before proceeding with the analysis\")\n",
    "    else:\n",
    "        print(f\"No Duplicate appointments found in the dataset and no data cleansing required\")\n",
    "    return"
   ]
  },
  {
   "cell_type": "code",
   "execution_count": 111,
   "metadata": {
    "collapsed": true
   },
   "outputs": [],
   "source": [
    "def renameColumns(data):\n",
    "    data.rename(index=str,columns={\"Hipertension\":\"Hypertension\",\"Handcap\":\"Differently_abled\",\"No-show\":\"No_show\"},inplace=True)\n",
    "    return;"
   ]
  },
  {
   "cell_type": "code",
   "execution_count": 112,
   "metadata": {
    "collapsed": true
   },
   "outputs": [],
   "source": [
    "def checkDateValues(data):\n",
    "    ## Check whether valid dates are in ScheduledDay\n",
    "    ## the following call will produce True in output if the dates are not valid\n",
    "    scheduleddates= pd.to_datetime(appointment_data['ScheduledDay'], errors=\"coerce\").isnull()\n",
    "    countvalidscheduleddates=scheduleddates.isin([False]).sum()\n",
    "    if(countvalidscheduleddates!=total_records):\n",
    "        print(f\"one or more scheduled day dont have valid dates\")\n",
    "    else:\n",
    "        print(f\"Dates are valid in Scheduled day. No data cleansing required\")\n",
    "    ## Check whether valid dates are in AppointmentDay\n",
    "    ## the following call will produce True in output if the dates are not valid\n",
    "    AppointmentDates= pd.to_datetime(appointment_data['AppointmentDay'], errors=\"coerce\").isnull()\n",
    "    countvalidAppointmentdates=AppointmentDates.isin([False]).sum()\n",
    "    if(countvalidAppointmentdates!=total_records):\n",
    "        print(f\"one or more Appointment day dont have valid dates\")\n",
    "    else:\n",
    "        print(f\"Dates are valid in Appointment day. No data cleansing required\")\n",
    "    return        "
   ]
  },
  {
   "cell_type": "code",
   "execution_count": 113,
   "metadata": {
    "collapsed": true
   },
   "outputs": [],
   "source": [
    "def dataWranglingCleaning(appointment_data):\n",
    "    \n",
    "    renameColumns(appointment_data)\n",
    "    appointment_data.Scholarship.replace([0,1],[\"N\",\"Y\"],inplace=True)\n",
    "    appointment_data.Hypertension.replace([0,1],[\"N\",\"Y\"],inplace=True)\n",
    "    appointment_data.Diabetes.replace([0,1],[\"N\",\"Y\"],inplace=True)\n",
    "    appointment_data.Alcoholism.replace([0,1],[\"N\",\"Y\"],inplace=True)\n",
    "    appointment_data.Differently_abled.replace([0,1],[\"N\",\"Y\"],inplace=True)\n",
    "    appointment_data.No_show.replace([\"No\",\"Yes\"],[\"N\",\"Y\"],inplace=True)\n",
    "    ## checking for Duplicate Appointments in dataset\n",
    "    checkDuplicateAppts(appointment_data)\n",
    "    ## Checking valid values for Scholarship, Hypertension, Diabetes,Alcholism,Differently Abled, No Show\n",
    "    columnnames=[\"Scholarship\",\"Hypertension\",\"Diabetes\",\"Alcoholism\",\"Differently_abled\",\"No_show\"]\n",
    "    validvalues=[\"Y\",\"N\"]\n",
    "    checkColumnValues(appointment_data,columnnames,validvalues)\n",
    "    ## Checking valid values for Gender\n",
    "    columnnames=[\"Gender\"]\n",
    "    validvalues=[\"M\",\"F\"]\n",
    "    checkColumnValues(appointment_data,columnnames,validvalues)\n",
    "    ## Checking whether valid dates exist in columns scheduled day and Appointment day\n",
    "    checkDateValues(appointment_data)\n",
    "    return"
   ]
  },
  {
   "cell_type": "code",
   "execution_count": 114,
   "metadata": {},
   "outputs": [
    {
     "name": "stdout",
     "output_type": "stream",
     "text": [
      "No Duplicate appointments found in the dataset and no data cleansing required\n",
      "Data in Scholarship has valid inputs. No cleansing required\n",
      "Data in Hypertension has valid inputs. No cleansing required\n",
      "Data in Diabetes has valid inputs. No cleansing required\n",
      "Data in Alcoholism has valid inputs. No cleansing required\n",
      "Data in Differently_abled has valid inputs. No cleansing required\n",
      "Data in No_show has valid inputs. No cleansing required\n",
      "Data in Gender has valid inputs. No cleansing required\n",
      "Dates are valid in Scheduled day. No data cleansing required\n",
      "Dates are valid in Appointment day. No data cleansing required\n",
      "Printing Cleansed data\n",
      "      PatientId  AppointmentID Gender          ScheduledDay  \\\n",
      "0  2.987250e+13        5642903      F  2016-04-29T18:38:08Z   \n",
      "1  5.589978e+14        5642503      M  2016-04-29T16:08:27Z   \n",
      "2  4.262962e+12        5642549      F  2016-04-29T16:19:04Z   \n",
      "3  8.679512e+11        5642828      F  2016-04-29T17:29:31Z   \n",
      "4  8.841186e+12        5642494      F  2016-04-29T16:07:23Z   \n",
      "\n",
      "         AppointmentDay  Age      Neighbourhood Scholarship Hypertension  \\\n",
      "0  2016-04-29T00:00:00Z   62    JARDIM DA PENHA           N            Y   \n",
      "1  2016-04-29T00:00:00Z   56    JARDIM DA PENHA           N            N   \n",
      "2  2016-04-29T00:00:00Z   62      MATA DA PRAIA           N            N   \n",
      "3  2016-04-29T00:00:00Z    8  PONTAL DE CAMBURI           N            N   \n",
      "4  2016-04-29T00:00:00Z   56    JARDIM DA PENHA           N            Y   \n",
      "\n",
      "  Diabetes Alcoholism Differently_abled  SMS_received No_show  \n",
      "0        N          N                 N             0       N  \n",
      "1        N          N                 N             0       N  \n",
      "2        N          N                 N             0       N  \n",
      "3        N          N                 N             0       N  \n",
      "4        Y          N                 N             0       N  \n"
     ]
    }
   ],
   "source": [
    "dataWranglingCleaning(appointment_data)\n",
    "print(f\"Printing Cleansed data\")\n",
    "print(appointment_data.head())"
   ]
  },
  {
   "cell_type": "markdown",
   "metadata": {},
   "source": [
    "<a id='eda'></a>\n",
    "## Exploratory Data Analysis\n",
    "\n",
    "### Research Question 1 (Which Gender missed most number of appointments)"
   ]
  },
  {
   "cell_type": "code",
   "execution_count": 115,
   "metadata": {
    "collapsed": true
   },
   "outputs": [],
   "source": [
    "def getTotalAppts(data):\n",
    "       return data[\"PatientId\"].count()\n"
   ]
  },
  {
   "cell_type": "code",
   "execution_count": 116,
   "metadata": {
    "collapsed": true
   },
   "outputs": [],
   "source": [
    "def getApptsbyPercentage(appts,total_appts):\n",
    "   return appts*100/tot_appts"
   ]
  },
  {
   "cell_type": "code",
   "execution_count": 117,
   "metadata": {
    "collapsed": true
   },
   "outputs": [],
   "source": [
    "def filterbyColumn(data,filtercolumn,filtervalue):\n",
    "    ## Filter for gender\n",
    "    if(filtercolumn==\"GE\"):\n",
    "        filtereddata=data[data.Gender==filtervalue]\n",
    "    elif(filtercolumn==\"NS\"): \n",
    "        filtereddata=data[data.No_show==filtervalue]    \n",
    "    elif(filtercolumn==\"SL\"): \n",
    "        filtereddata= data[data.Scholarship==filtervalue]\n",
    "    return filtereddata"
   ]
  },
  {
   "cell_type": "code",
   "execution_count": 118,
   "metadata": {},
   "outputs": [
    {
     "name": "stdout",
     "output_type": "stream",
     "text": [
      "The total appointments is 110527\n",
      "The total male appointments is 38687\n",
      "The total female appointments is 71840\n"
     ]
    }
   ],
   "source": [
    "# Use this, and more code cells, to explore your data. Don't forget to add\n",
    "# Markdown cells to document your observations and findings.\n",
    "\n",
    "## Total appointments in the dataset\n",
    "dict_filters={\"GE\":[\"M\",\"F\"],\"NS\":[\"Y\",\"N\"],\"SL\":[\"Y\",\"N\"]}\n",
    "list_filters_columns=[]\n",
    "list_filters_values=[]\n",
    "list_filters_columns=list(dict_filters.keys())\n",
    "list_filters_values=list(dict_filters.values())\n",
    "\n",
    "tot_appts = getTotalAppts(appointment_data)\n",
    "print(f\"The total appointments is {tot_appts}\")\n",
    "## Data Frame containing male appts only\n",
    "male_appts=filterbyColumn(appointment_data,list_filters_columns[0],list_filters_values[0][0])\n",
    "## Total Male appointments in dataset. \n",
    "tot_male_appts=getTotalAppts(male_appts)\n",
    "print(f\"The total male appointments is {tot_male_appts}\")\n",
    "\n",
    "## Total Female appointments in dataset\n",
    "## Data Frame containing Female appts only\n",
    "female_appts=filterbyColumn(appointment_data,list_filters_columns[0],list_filters_values[0][1])\n",
    "tot_female_appts=getTotalAppts(female_appts)\n",
    "print(f\"The total female appointments is {tot_female_appts}\")\n",
    "\n",
    "##Cross verify. If the below statement is not true, need to look at the data and see whether any data has to be cleansed. \n",
    "if(tot_appts!=tot_male_appts+tot_female_appts):\n",
    "    print(f\"Please check the code\")\n",
    "    "
   ]
  },
  {
   "cell_type": "code",
   "execution_count": 119,
   "metadata": {},
   "outputs": [
    {
     "name": "stdout",
     "output_type": "stream",
     "text": [
      "The total male appointments by percentage is 35.00230712857492\n",
      "The total female appointments by percentage is 64.99769287142509\n",
      "The total no of missed appointments by Male Gender in absolute terms is 7725\n",
      "The total no of missed appointments by Male Gender in relative terms is 19.967947889471915\n",
      "The total no of missed appointments by female Gender in absolute terms is 14594\n",
      "The total no of missed appointments by female Gender in relative terms is 20.31458797327394\n"
     ]
    }
   ],
   "source": [
    "\n",
    "## Proportion of males and Females appointments\n",
    "\n",
    "tot_male_appts_percentage=getApptsbyPercentage(tot_male_appts,tot_appts)\n",
    "print(f\"The total male appointments by percentage is {tot_male_appts_percentage}\")\n",
    "\n",
    "tot_female_appts_percentage=getApptsbyPercentage(tot_female_appts,tot_appts)\n",
    "print(f\"The total female appointments by percentage is {tot_female_appts_percentage}\")\n",
    "\n",
    "## Data Frame containing Males who did not honor the appts . \n",
    "male_appts_no_show=filterbyColumn(male_appts,list_filters_columns[1],list_filters_values[1][0])\n",
    "\n",
    "##Count of  male who missed appointments\n",
    "tot_male_no_show=male_appts_no_show[\"PatientId\"].count()\n",
    "\n",
    "##Count of Male honoring appointments.\n",
    "tot_male_show = tot_male_appts-tot_male_no_show\n",
    "\n",
    "## Percentage of Male no shows compared to total Male appts. \n",
    "tot_male_no_show_percentage=tot_male_no_show*100/tot_male_appts\n",
    "\n",
    "print(f\"The total no of missed appointments by Male Gender in absolute terms is {tot_male_no_show}\")\n",
    "print(f\"The total no of missed appointments by Male Gender in relative terms is {tot_male_no_show_percentage}\")\n",
    "## Missed appointments female\n",
    "\n",
    "## Data Frame containing Female appts with no show.\n",
    "female_appts_no_show=filterbyColumn(female_appts,list_filters_columns[1],list_filters_values[1][0])\n",
    "\n",
    "tot_female_no_show=female_appts_no_show[\"PatientId\"].count()\n",
    "tot_female_no_show_percentage=tot_female_no_show*100/tot_female_appts\n",
    "tot_female_show=tot_female_appts-tot_female_no_show\n",
    "print(f\"The total no of missed appointments by female Gender in absolute terms is {tot_female_no_show}\")\n",
    "print(f\"The total no of missed appointments by female Gender in relative terms is {tot_female_no_show_percentage}\")\n"
   ]
  },
  {
   "cell_type": "code",
   "execution_count": 120,
   "metadata": {},
   "outputs": [
    {
     "name": "stdout",
     "output_type": "stream",
     "text": [
      "The number of appointments missed by female is greather than male in absolute terms            by 6869\n"
     ]
    }
   ],
   "source": [
    "## Total no show \n",
    "tot_no_show = tot_male_no_show+tot_female_no_show\n",
    "\n",
    "if(tot_male_no_show > tot_female_no_show):\n",
    "    print(f\"The number of appointments missed by male is greather than female in absolute terms \\\n",
    "           by {tot_male_no_show-tot_female_no_show}\")\n",
    "elif(tot_female_no_show > tot_male_no_show):\n",
    "    print(f\"The number of appointments missed by female is greather than male in absolute terms \\\n",
    "           by {tot_female_no_show-tot_male_no_show}\")\n",
    "else:\n",
    "    print(f\"Both Male and Female miss appointments equally in absolute terms\")"
   ]
  },
  {
   "cell_type": "code",
   "execution_count": 121,
   "metadata": {},
   "outputs": [
    {
     "name": "stdout",
     "output_type": "stream",
     "text": [
      "The number of appointments missed by female is greather than male in relative terms            by 0.3466400838020256%\n"
     ]
    }
   ],
   "source": [
    "## comparing relative percentage of male and female no shows. \n",
    "if(tot_male_no_show_percentage > tot_female_no_show_percentage):\n",
    "    print(f\"The number of appointments missed by male is greather than female in relative terms \\\n",
    "           by {tot_male_no_show_percentage-tot_female_no_show_percentage}%\")\n",
    "elif(tot_female_no_show > tot_male_no_show):\n",
    "    print(f\"The number of appointments missed by female is greather than male in relative terms \\\n",
    "           by {tot_female_no_show_percentage-tot_male_no_show_percentage}%\")\n",
    "else:\n",
    "    print(f\"Both Male and Female miss appointments equally in relative terms\")\n"
   ]
  },
  {
   "cell_type": "code",
   "execution_count": 122,
   "metadata": {
    "collapsed": true
   },
   "outputs": [],
   "source": [
    "def drawPieChart(title,labels,sizes):\n",
    "    fig1, ax1 = plt.subplots()\n",
    "    ax1.pie(sizes, labels=labels, autopct='%1.1f%%',\n",
    "    shadow=True, startangle=90)\n",
    "    ax1.axis('equal')  # Equal aspect ratio ensures that pie is drawn as a circle.\n",
    "    plt.title(title,fontweight=\"bold\")\n",
    "    plt.show()\n",
    "    return"
   ]
  },
  {
   "cell_type": "code",
   "execution_count": 123,
   "metadata": {},
   "outputs": [
    {
     "data": {
      "image/png": "[encoded data removed]",
      "text/plain": [
       "<matplotlib.figure.Figure at 0x1f81a3884e0>"
      ]
     },
     "metadata": {},
     "output_type": "display_data"
    },
    {
     "data": {
      "image/png": "[encoded data removed]",
      "text/plain": [
       "<matplotlib.figure.Figure at 0x1f81a3886a0>"
      ]
     },
     "metadata": {},
     "output_type": "display_data"
    },
    {
     "data": {
      "image/png": "[encoded data removed]",
      "text/plain": [
       "<matplotlib.figure.Figure at 0x1f81a3880b8>"
      ]
     },
     "metadata": {},
     "output_type": "display_data"
    }
   ],
   "source": [
    "## Pie Chart showing male vs Female total appointments\n",
    "labels=[\"Male-Appts\",\"Female-Appts\"]\n",
    "sizes=[tot_male_appts,tot_female_appts]\n",
    "title=\"Male Appts vs Female Appts\"\n",
    "drawPieChart(title,labels,sizes)\n",
    "\n",
    "    \n",
    "## pie chart representing male show vs Male No show\n",
    "\n",
    "labels=[\"Male-Show\",\"Male-NoShow\"]\n",
    "sizes=[tot_male_show,tot_male_no_show]\n",
    "title= \"Male show vs Male No Show\"\n",
    "drawPieChart(title,labels,sizes)\n",
    "\n",
    "## pie chart representing Female show vs FeMale No show\n",
    "labels=[\"Female-Show\",\"Female-NoShow\"]\n",
    "sizes=[tot_female_show,tot_female_no_show]\n",
    "title=\"Female show vs Female No Show\"\n",
    "drawPieChart(title,labels,sizes)\n",
    "\n"
   ]
  },
  {
   "cell_type": "markdown",
   "metadata": {},
   "source": [
    "### Inferences from Pie Charts for Research Question 1 (Which Gender missed most number of appointments)\n",
    "1) Female appointments are more than Male appointments by a whooping 30%. Further analysis should be done to figure out why females are visiting doctors more compared to males. The dataset does not have enough data to analysis this point. \n",
    "2) Gender wise , percentage of people missing appointments are more or less same (20% for Male vs 20.3% for female). So the data shows clearly that gender does not play a major role in missing appointments. "
   ]
  },
  {
   "cell_type": "markdown",
   "metadata": {},
   "source": [
    "### Research Question 2  (Does scholarship play a role in people missing appointments)"
   ]
  },
  {
   "cell_type": "code",
   "execution_count": 124,
   "metadata": {
    "collapsed": true
   },
   "outputs": [],
   "source": [
    "# Continue to explore the data \n",
    "male_with_scholarships =filterbyColumn(male_appts,list_filters_columns[2],list_filters_values[2][0])\n",
    "male_without_scholarships =filterbyColumn(male_appts,list_filters_columns[2],list_filters_values[2][1])\n",
    "tot_male_with_scholarships =getTotalAppts(male_with_scholarships)\n",
    "tot_male_without_scholarships = getTotalAppts(male_without_scholarships)\n",
    "female_with_scholarships = filterbyColumn(female_appts,list_filters_columns[2],list_filters_values[2][0])\n",
    "female_without_scholarships =filterbyColumn(female_appts,list_filters_columns[2],list_filters_values[2][1]) \n",
    "tot_female_with_scholarships =getTotalAppts(female_with_scholarships)\n",
    "tot_female_without_scholarships = getTotalAppts(female_without_scholarships)"
   ]
  },
  {
   "cell_type": "code",
   "execution_count": 125,
   "metadata": {
    "collapsed": true
   },
   "outputs": [],
   "source": [
    "\n",
    "## slicing by gender - No Show with and without scholarship - Male\n",
    "male_no_shows_withoutscholarships=filterbyColumn(male_appts_no_show,list_filters_columns[2],list_filters_values[2][1])\n",
    "count_male_no_shows_withoutscholarships=getTotalAppts(male_no_shows_withoutscholarships)\n",
    "male_no_shows_withscholarships=filterbyColumn(male_appts_no_show,list_filters_columns[2],list_filters_values[2][0])\n",
    "count_male_no_shows_withscholarships=getTotalAppts(male_no_shows_withscholarships)"
   ]
  },
  {
   "cell_type": "code",
   "execution_count": 126,
   "metadata": {
    "collapsed": true
   },
   "outputs": [],
   "source": [
    "## slicing by gender - No Show with and without scholarship - Female \n",
    "female_no_shows_withoutscholarships=filterbyColumn(female_appts_no_show,list_filters_columns[2],list_filters_values[2][1])\n",
    "count_female_no_shows_withoutscholarships=getTotalAppts(female_no_shows_withoutscholarships)\n",
    "female_no_shows_withscholarships=filterbyColumn(female_appts_no_show,list_filters_columns[2],list_filters_values[2][0])\n",
    "count_female_no_shows_withscholarships=getTotalAppts(female_no_shows_withscholarships)"
   ]
  },
  {
   "cell_type": "code",
   "execution_count": 127,
   "metadata": {
    "collapsed": true
   },
   "outputs": [],
   "source": [
    "\n",
    "##Slicing of Scholarships - No show with and without scholarship - Gender Neutral\n",
    "total_no_shows_without_scholarships =count_male_no_shows_withoutscholarships + count_female_no_shows_withoutscholarships\n",
    "total_no_shows_with_scholarships=count_male_no_shows_withscholarships +count_female_no_shows_withscholarships\n",
    "total_percentage_no_shows_without_scholarships=total_no_shows_without_scholarships*100/tot_no_show\n",
    "total_percentage_no_shows_with_scholarships=total_no_shows_with_scholarships*100/tot_no_show\n"
   ]
  },
  {
   "cell_type": "code",
   "execution_count": 128,
   "metadata": {},
   "outputs": [
    {
     "data": {
      "image/png": "[encoded data removed]",
      "text/plain": [
       "<matplotlib.figure.Figure at 0x1f818fd0b38>"
      ]
     },
     "metadata": {},
     "output_type": "display_data"
    },
    {
     "data": {
      "image/png": "[encoded data removed]",
      "text/plain": [
       "<matplotlib.figure.Figure at 0x1f818fd0b70>"
      ]
     },
     "metadata": {},
     "output_type": "display_data"
    },
    {
     "data": {
      "image/png": "[encoded data removed]",
      "text/plain": [
       "<matplotlib.figure.Figure at 0x1f818fe2390>"
      ]
     },
     "metadata": {},
     "output_type": "display_data"
    },
    {
     "data": {
      "image/png": "[encoded data removed]",
      "text/plain": [
       "<matplotlib.figure.Figure at 0x1f819013128>"
      ]
     },
     "metadata": {},
     "output_type": "display_data"
    },
    {
     "data": {
      "image/png": "[encoded data removed]",
      "text/plain": [
       "<matplotlib.figure.Figure at 0x1f818fd0b00>"
      ]
     },
     "metadata": {},
     "output_type": "display_data"
    }
   ],
   "source": [
    "'''\n",
    "percentage of male  enrolled vs not enrolled in Welfare program (aka. with Scholarship and without Scholarship)\n",
    "'''\n",
    "## pie chart representing percentage of male  enrolled vs not enrolled in Welfare program \n",
    "\n",
    "labels=[\"Male-With Scholarship\",\"Male-Without Scholarship\"]\n",
    "sizes=[tot_male_with_scholarships,tot_male_without_scholarships]\n",
    "title = \"Male Enrolled vs Not enrolled in Welfare Program\"\n",
    "drawPieChart(title,labels,sizes)\n",
    "'''\n",
    "percentage of male  enrolled vs not enrolled in Welfare program (aka. with Scholarship and without Scholarship)\n",
    "'''\n",
    "## pie chart representing percentage of female  enrolled vs not enrolled in Welfare program \n",
    "\n",
    "\n",
    "labels=[\"Female-With Scholarship\",\"Female-Without Scholarship\"]\n",
    "sizes=[tot_female_with_scholarships,tot_female_without_scholarships]\n",
    "title=\"Female Enrolled vs Not enrolled in Welfare Program\"\n",
    "drawPieChart(title,labels,sizes)\n",
    "'''\n",
    "\n",
    "How much percentage of people with scholarships skip appointments compare to people without scholarships\n",
    "'''\n",
    "## pie chart representing people who dont show up for scheduled appointments, with scholarship and without scholarship.\n",
    "\n",
    "\n",
    "labels=[\"NoShow-NoScholarship\",\"NoShow-WithScholarship\"]\n",
    "sizes=[total_no_shows_without_scholarships,total_no_shows_with_scholarships]\n",
    "title = \"People No Show - With and Without Scholarships\"\n",
    "drawPieChart(title,labels,sizes)\n",
    "\n",
    "\n",
    "\n",
    "'''\n",
    "How much percentage of female with scholarships skip appointments compare to female without scholarships\n",
    "'''\n",
    "## pie chart representing female who dont show up for scheduled appointments, with scholarship and without scholarship.\n",
    "\n",
    "\n",
    "labels=[\"Female-NoShow-NoScholarship\",\"Female-NoShow-WithScholarship\"]\n",
    "sizes=[count_female_no_shows_withoutscholarships,count_female_no_shows_withscholarships]\n",
    "title = \"Female No Show - With and Without Scholarships\"\n",
    "drawPieChart(title,labels,sizes)\n",
    "\n",
    "\n",
    "'''\n",
    "How much percentage of male with scholarships skip appointments compare to male without scholarships\n",
    "'''\n",
    "## pie chart representing male who dont show up for scheduled appointments, with scholarship and without scholarship.\n",
    "\n",
    "\n",
    "labels=[\"Male-NoShow-NoScholarship\",\"Male-NoShow-WithScholarship\"]\n",
    "sizes=[count_male_no_shows_withoutscholarships,count_male_no_shows_withscholarships]\n",
    "title = \"Male No Show - With and Without Scholarships\"\n",
    "drawPieChart(title,labels,sizes)\n",
    "\n"
   ]
  },
  {
   "cell_type": "markdown",
   "metadata": {},
   "source": [
    "###  Research Question 2  (Does scholarship play a role in people missing appointments)\n",
    "Enrollment in Brasilian welfare program Bolsa Família is very less. It is only 5.2% in case of male and 12.3% in case of female.  At the same time , analysis of the data clearly shows that the Scholarship (Enrollment in Brasilian welfare program Bolsa Família) plays a major role. People who are enrolled in the welfare program does not miss the appointments compared to people who are not enrolled. This trend is seen across both the genders with more pronouncement in case of males.A whooping 94% of male who are not part of the welfare program skip scheduled appointments whereas only 6% of male who are part of the welfare program miss the scheduled appointments. Similarly a whooping 85.6% of female who are not part of the welfare program skip scheduled appointments whereas only 14.4% of female who are part of the welfare program miss the scheduled appointments. Ensuring enrollment of people in the welfare program will improve the scheduled appointment adherence. There is not enough information in this dataset to understand what is the criteria for enrolling in the welfare scheme and why people are not opting for it."
   ]
  },
  {
   "cell_type": "markdown",
   "metadata": {},
   "source": [
    "### Research Question 3  (Does day of the week play a role in people missing appointments)"
   ]
  },
  {
   "cell_type": "code",
   "execution_count": 129,
   "metadata": {
    "collapsed": true
   },
   "outputs": [],
   "source": [
    "def getApptsbyDayWise(data,dayofweek):\n",
    "    return data[(data.day_of_week==dayofweek)]"
   ]
  },
  {
   "cell_type": "code",
   "execution_count": 130,
   "metadata": {
    "collapsed": true
   },
   "outputs": [],
   "source": [
    "def getDayTotalAppts(data):\n",
    "    return data[\"PatientId\"].count()"
   ]
  },
  {
   "cell_type": "code",
   "execution_count": 131,
   "metadata": {
    "collapsed": true
   },
   "outputs": [],
   "source": [
    "day_of_week=[\"Mon\",\"Tue\",\"Wed\",\"Thu\",\"Fri\",\"Sat\",\"Sun\"]\n",
    "## Adding day of the week to the Appointment data set. \n",
    "appointment_data[\"day_of_week\"] = pd.to_datetime(appointment_data[\"AppointmentDay\"]).dt.weekday\n",
    "appointment_data.day_of_week.replace([0,1,2,3,4,5,6],day_of_week,inplace=True)"
   ]
  },
  {
   "cell_type": "code",
   "execution_count": 132,
   "metadata": {
    "collapsed": true
   },
   "outputs": [],
   "source": [
    "## Get Appointment day wise\n",
    "appointments_Mon= getApptsbyDayWise(appointment_data,day_of_week[0])\n",
    "appointments_Tue= getApptsbyDayWise(appointment_data,day_of_week[1])\n",
    "appointments_Wed= getApptsbyDayWise(appointment_data,day_of_week[2])\n",
    "appointments_Thu= getApptsbyDayWise(appointment_data,day_of_week[3])\n",
    "appointments_Fri= getApptsbyDayWise(appointment_data,day_of_week[4])\n",
    "appointments_Sat= getApptsbyDayWise(appointment_data,day_of_week[5])"
   ]
  },
  {
   "cell_type": "code",
   "execution_count": 133,
   "metadata": {
    "collapsed": true
   },
   "outputs": [],
   "source": [
    "## Get Count of Appointment Day Wise\n",
    "total_appointments_mon = getDayTotalAppts(appointments_Mon)\n",
    "total_appointments_tue = getDayTotalAppts(appointments_Tue)\n",
    "total_appointments_wed = getDayTotalAppts(appointments_Wed)\n",
    "total_appointments_thu = getDayTotalAppts(appointments_Thu)\n",
    "total_appointments_fri = getDayTotalAppts(appointments_Fri)\n",
    "total_appointments_sat = getDayTotalAppts(appointments_Sat)"
   ]
  },
  {
   "cell_type": "code",
   "execution_count": 134,
   "metadata": {
    "collapsed": true
   },
   "outputs": [],
   "source": [
    "##Genderwise, Day wise (show vs no show) -Female\n",
    "female_appointments_Mon =filterbyColumn(appointments_Mon,list_filters_columns[0],list_filters_values[0][1])\n",
    "female_appointments_Tue =filterbyColumn(appointments_Tue,list_filters_columns[0],list_filters_values[0][1])\n",
    "female_appointments_Wed =filterbyColumn(appointments_Wed,list_filters_columns[0],list_filters_values[0][1])\n",
    "female_appointments_Thu =filterbyColumn(appointments_Thu,list_filters_columns[0],list_filters_values[0][1])\n",
    "female_appointments_Fri =filterbyColumn(appointments_Fri,list_filters_columns[0],list_filters_values[0][1])\n",
    "female_appointments_Sat =filterbyColumn(appointments_Sat,list_filters_columns[0],list_filters_values[0][1])"
   ]
  },
  {
   "cell_type": "code",
   "execution_count": 135,
   "metadata": {
    "collapsed": true
   },
   "outputs": [],
   "source": [
    "total_female_appointments_Mon = getTotalAppts(female_appointments_Mon)\n",
    "total_female_appointments_Tue= getTotalAppts(female_appointments_Tue)\n",
    "total_female_appointments_Wed= getTotalAppts(female_appointments_Wed)\n",
    "total_female_appointments_Thu= getTotalAppts(female_appointments_Thu)\n",
    "total_female_appointments_Fri= getTotalAppts(female_appointments_Fri)\n",
    "total_female_appointments_Sat= getTotalAppts(female_appointments_Sat)"
   ]
  },
  {
   "cell_type": "code",
   "execution_count": 136,
   "metadata": {
    "collapsed": true
   },
   "outputs": [],
   "source": [
    "female_missed_appointments_Mon =filterbyColumn(female_appointments_Mon,list_filters_columns[1],list_filters_values[1][0])\n",
    "female_missed_appointments_Tue =filterbyColumn(female_appointments_Tue,list_filters_columns[1],list_filters_values[1][0])\n",
    "female_missed_appointments_Wed =filterbyColumn(female_appointments_Wed,list_filters_columns[1],list_filters_values[1][0])\n",
    "female_missed_appointments_Thu =filterbyColumn(female_appointments_Thu,list_filters_columns[1],list_filters_values[1][0])\n",
    "female_missed_appointments_Fri =filterbyColumn(female_appointments_Fri,list_filters_columns[1],list_filters_values[1][0])\n",
    "female_missed_appointments_Sat =filterbyColumn(female_appointments_Sat,list_filters_columns[1],list_filters_values[1][0])"
   ]
  },
  {
   "cell_type": "code",
   "execution_count": 137,
   "metadata": {
    "collapsed": true
   },
   "outputs": [],
   "source": [
    "total_female_missed_appointments_Mon= getTotalAppts(female_missed_appointments_Mon)\n",
    "total_female_missed_appointments_Tue= getTotalAppts(female_missed_appointments_Tue)\n",
    "total_female_missed_appointments_Wed= getTotalAppts(female_missed_appointments_Wed)\n",
    "total_female_missed_appointments_Thu= getTotalAppts(female_missed_appointments_Thu)\n",
    "total_female_missed_appointments_Fri= getTotalAppts(female_missed_appointments_Fri)\n",
    "total_female_missed_appointments_Sat= getTotalAppts(female_missed_appointments_Sat)"
   ]
  },
  {
   "cell_type": "code",
   "execution_count": 138,
   "metadata": {
    "collapsed": true
   },
   "outputs": [],
   "source": [
    "percentage_missed_female_appts_on_monday =total_female_missed_appointments_Mon*100/ total_female_appointments_Mon\n",
    "percentage_missed_female_appts_on_tuesday =total_female_missed_appointments_Tue*100/ total_female_appointments_Tue\n",
    "percentage_missed_female_appts_on_wednesday =total_female_missed_appointments_Wed*100/ total_female_appointments_Wed\n",
    "percentage_missed_female_appts_on_thursday =total_female_missed_appointments_Thu*100/ total_female_appointments_Thu\n",
    "percentage_missed_female_appts_on_friday =total_female_missed_appointments_Fri*100/ total_female_appointments_Fri\n",
    "percentage_missed_female_appts_on_saturday =total_female_missed_appointments_Sat*100/ total_female_appointments_Sat"
   ]
  },
  {
   "cell_type": "code",
   "execution_count": 139,
   "metadata": {
    "collapsed": true
   },
   "outputs": [],
   "source": [
    "\n",
    "##Genderwise, Day wise (show vs No Show) -Male\n",
    "male_appointments_Mon =filterbyColumn(appointments_Mon,list_filters_columns[0],list_filters_values[0][0])\n",
    "male_appointments_Tue =filterbyColumn(appointments_Tue,list_filters_columns[0],list_filters_values[0][0])\n",
    "male_appointments_Wed =filterbyColumn(appointments_Wed,list_filters_columns[0],list_filters_values[0][0])\n",
    "male_appointments_Thu =filterbyColumn(appointments_Thu,list_filters_columns[0],list_filters_values[0][0])\n",
    "male_appointments_Fri =filterbyColumn(appointments_Fri,list_filters_columns[0],list_filters_values[0][0])\n",
    "male_appointments_Sat =filterbyColumn(appointments_Sat,list_filters_columns[0],list_filters_values[0][0])\n",
    "\n",
    "total_male_appointments_Mon = getTotalAppts(male_appointments_Mon)\n",
    "total_male_appointments_Tue= getTotalAppts(male_appointments_Tue)\n",
    "total_male_appointments_Wed= getTotalAppts(male_appointments_Wed)\n",
    "total_male_appointments_Thu= getTotalAppts(male_appointments_Thu)\n",
    "total_male_appointments_Fri= getTotalAppts(male_appointments_Fri)\n",
    "total_male_appointments_Sat= getTotalAppts(male_appointments_Sat)\n",
    "\n",
    "male_missed_appointments_Mon =filterbyColumn(male_appointments_Mon,list_filters_columns[1],list_filters_values[1][0])\n",
    "male_missed_appointments_Tue =filterbyColumn(male_appointments_Tue,list_filters_columns[1],list_filters_values[1][0])\n",
    "male_missed_appointments_Wed =filterbyColumn(male_appointments_Wed,list_filters_columns[1],list_filters_values[1][0])\n",
    "male_missed_appointments_Thu =filterbyColumn(male_appointments_Thu,list_filters_columns[1],list_filters_values[1][0])\n",
    "male_missed_appointments_Fri =filterbyColumn(male_appointments_Fri,list_filters_columns[1],list_filters_values[1][0])\n",
    "male_missed_appointments_Sat =filterbyColumn(male_appointments_Sat,list_filters_columns[1],list_filters_values[1][0])\n",
    "\n",
    "total_male_missed_appointments_Mon= getTotalAppts(male_missed_appointments_Mon)\n",
    "total_male_missed_appointments_Tue= getTotalAppts(male_missed_appointments_Tue)\n",
    "total_male_missed_appointments_Wed= getTotalAppts(male_missed_appointments_Wed)\n",
    "total_male_missed_appointments_Thu= getTotalAppts(male_missed_appointments_Thu)\n",
    "total_male_missed_appointments_Fri= getTotalAppts(male_missed_appointments_Fri)\n",
    "total_male_missed_appointments_Sat= getTotalAppts(male_missed_appointments_Sat)\n",
    "\n",
    "    \n",
    "percentage_missed_male_appts_on_monday =total_male_missed_appointments_Mon*100/ total_male_appointments_Mon\n",
    "percentage_missed_male_appts_on_tuesday =total_male_missed_appointments_Tue*100/ total_male_appointments_Tue\n",
    "percentage_missed_male_appts_on_wednesday =total_male_missed_appointments_Wed*100/ total_male_appointments_Wed\n",
    "percentage_missed_male_appts_on_thursday =total_male_missed_appointments_Thu*100/ total_male_appointments_Thu\n",
    "percentage_missed_male_appts_on_friday =total_male_missed_appointments_Fri*100/ total_male_appointments_Fri\n",
    "percentage_missed_male_appts_on_saturday =total_male_missed_appointments_Sat*100/ total_male_appointments_Sat"
   ]
  },
  {
   "cell_type": "code",
   "execution_count": 140,
   "metadata": {
    "collapsed": true
   },
   "outputs": [],
   "source": [
    "#Total appointments day wise - show vs no show\n",
    "total_missed_appointments_Mon= total_male_missed_appointments_Mon +total_female_missed_appointments_Mon\n",
    "total_missed_appointments_Tue= total_male_missed_appointments_Tue +total_female_missed_appointments_Tue\n",
    "total_missed_appointments_Wed= total_male_missed_appointments_Wed +total_female_missed_appointments_Wed\n",
    "total_missed_appointments_Thu= total_male_missed_appointments_Thu +total_female_missed_appointments_Thu\n",
    "total_missed_appointments_Fri= total_male_missed_appointments_Fri +total_female_missed_appointments_Fri\n",
    "total_missed_appointments_Sat= total_male_missed_appointments_Sat +total_female_missed_appointments_Sat\n",
    "\n",
    "#Percentage appointments missed day wise\n",
    "percentage_missed_appts_on_monday =total_missed_appointments_Mon*100/ total_appointments_mon\n",
    "percentage_missed_appts_on_tuesday =total_missed_appointments_Tue*100/ total_appointments_tue\n",
    "percentage_missed_appts_on_wednesday =total_missed_appointments_Wed*100/ total_appointments_wed\n",
    "percentage_missed_appts_on_thursday =total_missed_appointments_Thu*100/ total_appointments_thu\n",
    "percentage_missed_appts_on_friday =total_missed_appointments_Fri*100/ total_appointments_fri\n",
    "percentage_missed_appts_on_saturday =total_missed_appointments_Sat*100/ total_appointments_sat"
   ]
  },
  {
   "cell_type": "code",
   "execution_count": 141,
   "metadata": {},
   "outputs": [],
   "source": [
    "def autolabel(rects,ax):\n",
    "    \"\"\"\n",
    "    Attach a text label above each bar displaying its height\n",
    "    \"\"\"\n",
    "    for rect in rects:\n",
    "        height = rect.get_height()\n",
    "        ax.text(rect.get_x() + rect.get_width()/2., 1*height,\n",
    "                '%s' % (str(int(height))+\"%\"),\n",
    "                ha='center', va='bottom')\n",
    "    return"
   ]
  },
  {
   "cell_type": "code",
   "execution_count": 142,
   "metadata": {
    "collapsed": true
   },
   "outputs": [],
   "source": [
    "def drawSingleBarCharts(labels,data, width,ylabel,title,xticklabels):\n",
    "    N= len(labels) \n",
    "    ind = np.arange(N)  # the x locations for the groups\n",
    "    fig, ax = plt.subplots()\n",
    "    rect1=ax.bar(ind, data, width, color='r')\n",
    "    # add some text for labels, title and axes ticks\n",
    "    ax.set_ylabel(ylabel)\n",
    "    ax.set_title(title,fontweight=\"bold\")\n",
    "    ax.set_xticks(ind)\n",
    "    ax.set_xticklabels(('Mon', 'Tue', 'Wed', 'Thu', 'Fri','Sat'))\n",
    "    autolabel(rect1,ax)\n",
    "    plt.show()"
   ]
  },
  {
   "cell_type": "code",
   "execution_count": 143,
   "metadata": {
    "collapsed": true
   },
   "outputs": [],
   "source": [
    "def drawDoubleBarCharts(labels,data1,data2,width,ylabel,title,xticklabels,legend1,legend2):\n",
    "    N= len(labels) \n",
    "    ind = np.arange(N)  # the x locations for the groups\n",
    "    fig, ax = plt.subplots()\n",
    "    rect1=ax.bar(ind, data1, width, color='r')\n",
    "    rect2=ax.bar(ind + width,data2, width, color='y')\n",
    "    # add some text for labels, title and axes ticks\n",
    "    ax.set_ylabel(ylabel)\n",
    "    ax.set_title(title,fontweight=\"bold\")\n",
    "    ax.set_xticks(ind + width / 2)\n",
    "    ax.set_xticklabels(xticklabels)\n",
    "    ax.legend((rect1, rect2), (legend1,legend2))\n",
    "    autolabel(rect1,ax)\n",
    "    autolabel(rect2,ax)\n",
    "    plt.show()\n",
    "    return"
   ]
  },
  {
   "cell_type": "code",
   "execution_count": 144,
   "metadata": {},
   "outputs": [
    {
     "data": {
      "image/png": "[encoded data removed]",
      "text/plain": [
       "<matplotlib.figure.Figure at 0x1f81993ef98>"
      ]
     },
     "metadata": {},
     "output_type": "display_data"
    }
   ],
   "source": [
    "\n",
    "## Bar chart representing No Show Day Wise - Gender Neutral\n",
    "labels=[\"No-Show-Monday\",\"No-Show-Tuesday\",\"No-Show-Wednesday\",\"No-Show-Thursday\",\"No-Show-Friday\",\"No-Show-Saturday\"]\n",
    "\n",
    "data1 = [percentage_missed_appts_on_monday,percentage_missed_appts_on_tuesday,percentage_missed_appts_on_wednesday,\\\n",
    "       percentage_missed_appts_on_thursday,percentage_missed_appts_on_friday,percentage_missed_appts_on_saturday]\n",
    "width = 0.35       # the width of the bars\n",
    "ylabel=\"No-Shows\"\n",
    "title = \"No Shows Percentage by Days\"\n",
    "xticklabels=('Mon', 'Tue', 'Wed', 'Thu', 'Fri','Sat')\n",
    "drawSingleBarCharts(labels,data1,width,ylabel,title,xticklabels)\n",
    "\n"
   ]
  },
  {
   "cell_type": "code",
   "execution_count": 145,
   "metadata": {},
   "outputs": [
    {
     "data": {
      "image/png": "[encoded data removed]",
      "text/plain": [
       "<matplotlib.figure.Figure at 0x1f81a396d68>"
      ]
     },
     "metadata": {},
     "output_type": "display_data"
    }
   ],
   "source": [
    "\n",
    "#### Bar chart showing missed male and female appointments for each day of the week. \n",
    "labels=[\"No-Show-Monday\",\"No-Show-Tuesday\",\"No-Show-Wednesday\",\"No-Show-Thursday\",\"No-Show-Friday\",\"No-Show-Saturday\"]\n",
    "data1 = [percentage_missed_male_appts_on_monday,percentage_missed_male_appts_on_tuesday,percentage_missed_male_appts_on_wednesday,\\\n",
    "       percentage_missed_male_appts_on_thursday,percentage_missed_male_appts_on_friday,percentage_missed_male_appts_on_saturday]\n",
    "\n",
    "width = 0.35       # the width of the bars\n",
    "data2 = [percentage_missed_female_appts_on_monday,percentage_missed_female_appts_on_tuesday,percentage_missed_female_appts_on_wednesday,\\\n",
    "       percentage_missed_female_appts_on_thursday,percentage_missed_female_appts_on_friday,percentage_missed_female_appts_on_saturday]\n",
    "\n",
    "\n",
    "# add some text for labels, title and axes ticks\n",
    "ylabel='No-Shows'\n",
    "title='No Shows Percentage by Days and gender'\n",
    "xticklabels=('Mon', 'Tue', 'Wed', 'Thu', 'Fri','Sat')\n",
    "legend1=\"Men\"\n",
    "legend2= \"Women\"\n",
    "drawDoubleBarCharts(labels,data1,data2,width,ylabel,title,xticklabels,legend1,legend2)\n",
    "\n"
   ]
  },
  {
   "cell_type": "markdown",
   "metadata": {},
   "source": [
    "The data clearly shows that there is no huge variation when it comes to missing appointments with respect to specific days in the week. Also both women and miss around 20% of appointments each day and there is no huge gender specific variations seen here."
   ]
  },
  {
   "cell_type": "markdown",
   "metadata": {},
   "source": [
    "<a id='conclusions'></a>\n",
    "## Conclusions\n",
    "\n",
    "Based on the above analysis the following co-relation could be observed\n",
    "1. Enrollment in welfare program  plays a major role in whether someone skips scheduled appointments or not. Poor Enrollment is seen for the welfare program. \n",
    "2. More Female appointments are seen compared to Male appointments. \n",
    "3. Day of the week seems to be not be not playing a major role of whether someone is skipping appointment or not.\n",
    "\n",
    "Limitations:\n",
    "1. Enough information is not there in the dataset to analyse why poor enrollment is seen for the welfare program. If this is available then further analysis could be done to understand reasons behind no-show.One way of doing this is to check with the patient why they did not enrol for the welfare program. Then this data (reasons) could be grouped together in different categories to understand the reasons. Top 5 categories could then be used to increase the enrollment. \n",
    "2. Enough information is not there in the dataset to conclude why female appointments are more compared to the male appointments. If the dataset contains disease categories, then this would help in analysing the trends. Also male vs female population statistics of that area could be used to determine whether there is abnormal increase in female patients compared to male patients. \n",
    "\n",
    "\n",
    "Further statistical tests are needed to determine whether the above co-relation lead to causation. \n"
   ]
  }
 ],
 "metadata": {
  "kernelspec": {
   "display_name": "Python 3",
   "language": "python",
   "name": "python3"
  },
  "language_info": {
   "codemirror_mode": {
    "name": "ipython",
    "version": 3
   },
   "file_extension": ".py",
   "mimetype": "text/x-python",
   "name": "python",
   "nbconvert_exporter": "python",
   "pygments_lexer": "ipython3",
   "version": "3.6.3"
  }
 },
 "nbformat": 4,
 "nbformat_minor": 2
}
